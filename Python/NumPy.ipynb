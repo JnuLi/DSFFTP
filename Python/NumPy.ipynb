{
  "cells": [
    {
      "cell_type": "markdown",
      "source": [
        "# NumPy"
      ],
      "metadata": {}
    },
    {
      "cell_type": "markdown",
      "source": [
        "Numpy 是 Python 中科学计算的核心库。它提供了一个高性能的多维数组对象，以及用于处理这些数组的工具。"
      ],
      "metadata": {}
    },
    {
      "cell_type": "markdown",
      "source": [
        "## 版本"
      ],
      "metadata": {}
    },
    {
      "cell_type": "code",
      "source": [
        "import numpy\n",
        "numpy.__version__"
      ],
      "outputs": [
        {
          "output_type": "execute_result",
          "execution_count": 1,
          "data": {
            "text/plain": [
              "'1.15.2'"
            ]
          },
          "metadata": {}
        }
      ],
      "execution_count": 1,
      "metadata": {
        "collapsed": false,
        "outputHidden": false,
        "inputHidden": false
      }
    },
    {
      "cell_type": "markdown",
      "source": [
        "## 别名\n",
        "遵循传统，使用`np`作为别名导入 NumPy ："
      ],
      "metadata": {}
    },
    {
      "cell_type": "code",
      "source": [
        "import numpy as np"
      ],
      "outputs": [],
      "execution_count": 2,
      "metadata": {
        "collapsed": false,
        "outputHidden": false,
        "inputHidden": false
      }
    },
    {
      "cell_type": "markdown",
      "source": [
        "## 数组\n",
        "\nNumPy的数组类被调用`ndarray`， 通常用别名`array`来表示。"
      ],
      "metadata": {}
    },
    {
      "cell_type": "markdown",
      "source": [
        "### 属性\n",
        "\n",
        "每个`NumPy`数组都拥有如下属性：\n",
        "\n",
        "- `nidm`：数组维度\n",
        "- `shape`：维度大小\n",
        "- `size`：数组大小\n",
        "- `dtype`：数据类型\n",
        "- `itemsize`：元素字节大小, 以`bytes`为单位\n",
        "- `nbytes`：数组字节大小, 以`bytes`为单位"
      ],
      "metadata": {}
    },
    {
      "cell_type": "code",
      "source": [
        "# 创建一个3×3、由[0,10)均匀分布随机整数组成的数值\n",
        "x = (np.random.randint(0, 10, (3, 3)))\n",
        "print('x.ndim:',x.ndim)\n",
        "print('x.shape:',x.shape)\n",
        "print('x.size:',x.size)\n",
        "print('x.dtype:',x.dtype)\n",
        "print('x.itemsize:',x.itemsize)\n",
        "print('x.nbytes:',x.nbytes)\n",
        "x"
      ],
      "outputs": [
        {
          "output_type": "stream",
          "name": "stdout",
          "text": [
            "x.ndim: 2\n",
            "x.shape: (3, 3)\n",
            "x.size: 9\n",
            "x.dtype: int32\n",
            "x.itemsize: 4\n",
            "x.nbytes: 36\n"
          ]
        },
        {
          "output_type": "execute_result",
          "execution_count": 3,
          "data": {
            "text/plain": [
              "array([[6, 9, 4],\n",
              "       [2, 0, 9],\n",
              "       [5, 5, 9]])"
            ]
          },
          "metadata": {}
        }
      ],
      "execution_count": 3,
      "metadata": {
        "collapsed": false,
        "outputHidden": false,
        "inputHidden": false
      }
    },
    {
      "cell_type": "markdown",
      "source": [
        "### 利用列表(list)生成数组\n",
        "\n利用```nd.array```从 Pyhon 列表创建数值:"
      ],
      "metadata": {}
    },
    {
      "cell_type": "code",
      "source": [
        "x = np.array([1,2,3,4])\n",
        "x"
      ],
      "outputs": [
        {
          "output_type": "execute_result",
          "execution_count": 4,
          "data": {
            "text/plain": [
              "array([1, 2, 3, 4])"
            ]
          },
          "metadata": {}
        }
      ],
      "execution_count": 4,
      "metadata": {
        "collapsed": false,
        "outputHidden": false,
        "inputHidden": false
      }
    },
    {
      "cell_type": "markdown",
      "source": [
        "不同于Python列表， NumPy 要求数组必须包含同一类型的数据。如果类型不匹配， NumPy  将会向上转换（如果可行）。"
      ],
      "metadata": {}
    },
    {
      "cell_type": "code",
      "source": [
        "x = np.array([1.0, 2, 3.0, 4])\n",
        "x"
      ],
      "outputs": [
        {
          "output_type": "execute_result",
          "execution_count": 5,
          "data": {
            "text/plain": [
              "array([1., 2., 3., 4.])"
            ]
          },
          "metadata": {}
        }
      ],
      "execution_count": 5,
      "metadata": {
        "collapsed": false,
        "outputHidden": false,
        "inputHidden": false
      }
    },
    {
      "cell_type": "markdown",
      "source": [
        "如果希望明确设置数组的数据类型，可以用```dtype```变量："
      ],
      "metadata": {}
    },
    {
      "cell_type": "code",
      "source": [
        "x = np.array([1, 2, 3, 4], dtype=np.float32)\n",
        "x"
      ],
      "outputs": [
        {
          "output_type": "execute_result",
          "execution_count": 6,
          "data": {
            "text/plain": [
              "array([1., 2., 3., 4.], dtype=float32)"
            ]
          },
          "metadata": {}
        }
      ],
      "execution_count": 6,
      "metadata": {
        "collapsed": false,
        "outputHidden": false,
        "inputHidden": false
      }
    },
    {
      "cell_type": "markdown",
      "source": [
        "利用`list`构建多维数组："
      ],
      "metadata": {}
    },
    {
      "cell_type": "code",
      "source": [
        "x = np.array([[1, 2, 3], [4, 5, 6], [7, 8, 9]])\n",
        "x"
      ],
      "outputs": [
        {
          "output_type": "execute_result",
          "execution_count": 7,
          "data": {
            "text/plain": [
              "array([[1, 2, 3],\n",
              "       [4, 5, 6],\n",
              "       [7, 8, 9]])"
            ]
          },
          "metadata": {}
        }
      ],
      "execution_count": 7,
      "metadata": {
        "collapsed": false,
        "outputHidden": false,
        "inputHidden": false
      }
    },
    {
      "cell_type": "markdown",
      "source": [
        "### 利用```NumPy```内置方法创建数值\n",
        "\n`np.zeros()`:创建全 0 数值"
      ],
      "metadata": {}
    },
    {
      "cell_type": "code",
      "source": [
        "# 创建一个长度为5的全0数组\n",
        "x = np.zeros(5)\n",
        "x"
      ],
      "outputs": [
        {
          "output_type": "execute_result",
          "execution_count": 8,
          "data": {
            "text/plain": [
              "array([0., 0., 0., 0., 0.])"
            ]
          },
          "metadata": {}
        }
      ],
      "execution_count": 8,
      "metadata": {
        "collapsed": false,
        "outputHidden": false,
        "inputHidden": false
      }
    },
    {
      "cell_type": "markdown",
      "source": [
        "`np.ones()`:创建全 1 数组"
      ],
      "metadata": {}
    },
    {
      "cell_type": "code",
      "source": [
        "# 创建一个3*3的q全1矩阵\n",
        "x = np.ones((3,3), dtype=float)\n",
        "x"
      ],
      "outputs": [
        {
          "output_type": "execute_result",
          "execution_count": 9,
          "data": {
            "text/plain": [
              "array([[1., 1., 1.],\n",
              "       [1., 1., 1.],\n",
              "       [1., 1., 1.]])"
            ]
          },
          "metadata": {}
        }
      ],
      "execution_count": 9,
      "metadata": {
        "collapsed": false,
        "outputHidden": false,
        "inputHidden": false
      }
    },
    {
      "cell_type": "markdown",
      "source": [
        "`np.eye()`:创建一个单位矩阵"
      ],
      "metadata": {}
    },
    {
      "cell_type": "code",
      "source": [
        "# 创建一个3*3的单位矩阵\n",
        "x = np.eye(3)\n",
        "x"
      ],
      "outputs": [
        {
          "output_type": "execute_result",
          "execution_count": 10,
          "data": {
            "text/plain": [
              "array([[1., 0., 0.],\n",
              "       [0., 1., 0.],\n",
              "       [0., 0., 1.]])"
            ]
          },
          "metadata": {}
        }
      ],
      "execution_count": 10,
      "metadata": {
        "collapsed": false,
        "outputHidden": false,
        "inputHidden": false
      }
    },
    {
      "cell_type": "markdown",
      "source": [
        "`np.full(shape, fill_value)`：创建一个维数为`shape`、值为`fill_value`的数组"
      ],
      "metadata": {}
    },
    {
      "cell_type": "code",
      "source": [
        "# 创建一个维数为3*3、值全为2.0的浮点数型数组\n",
        "x = np.full((3,3), fill_value=2.0)\n",
        "x"
      ],
      "outputs": [
        {
          "output_type": "execute_result",
          "execution_count": 11,
          "data": {
            "text/plain": [
              "array([[2., 2., 2.],\n",
              "       [2., 2., 2.],\n",
              "       [2., 2., 2.]])"
            ]
          },
          "metadata": {}
        }
      ],
      "execution_count": 11,
      "metadata": {
        "collapsed": false,
        "outputHidden": false,
        "inputHidden": false
      }
    },
    {
      "cell_type": "markdown",
      "source": [
        "序列数组：\n",
        "\n",
        "- `np.arange(start, stop, step)`：创建一个从`start`到`stop`,步长为`step`的序列数组。\n",
        "- `np.linspace(start, stop, num=50)`：创建一个从`start`到`stop`,元素个数为`num`的序列数组。"
      ],
      "metadata": {}
    },
    {
      "cell_type": "code",
      "source": [
        "# 创建一个从0到10,步长为2的序列数组\n",
        "x = np.arange(0, 10, 2)\n",
        "x"
      ],
      "outputs": [
        {
          "output_type": "execute_result",
          "execution_count": 12,
          "data": {
            "text/plain": [
              "array([0, 2, 4, 6, 8])"
            ]
          },
          "metadata": {}
        }
      ],
      "execution_count": 12,
      "metadata": {
        "collapsed": false,
        "outputHidden": false,
        "inputHidden": false
      }
    },
    {
      "cell_type": "code",
      "source": [
        "# 创建一个从0到10,元素个数为5的序列数组\n",
        "x = np.linspace(0, 10, 5)\n",
        "x"
      ],
      "outputs": [
        {
          "output_type": "execute_result",
          "execution_count": 13,
          "data": {
            "text/plain": [
              "array([ 0. ,  2.5,  5. ,  7.5, 10. ])"
            ]
          },
          "metadata": {}
        }
      ],
      "execution_count": 13,
      "metadata": {
        "collapsed": false,
        "outputHidden": false,
        "inputHidden": false
      }
    },
    {
      "cell_type": "markdown",
      "source": [
        "随机分布数组：\n",
        "\n",
        "- `np.random.random()`：创建一个由 0 ~ 1 均匀分布生成的随机数组成的数组\n",
        "- `np.random.normal(loc=0.0, scale=1.0, size=None)`：创建一个由均值为`loc`、方差为`scale`的正态分布生成的随机数组成的数组\n",
        "- `np.random.randint(low, high=None, size=None)`：创建一个由`low`~`high`均匀分布生成的随机整数组成的数值"
      ],
      "metadata": {}
    },
    {
      "cell_type": "code",
      "source": [
        "# 创建一个3×3、由0~1均匀分布随机数组成的数组\n",
        "x = np.random.random((3, 3))\n",
        "x"
      ],
      "outputs": [
        {
          "output_type": "execute_result",
          "execution_count": 14,
          "data": {
            "text/plain": [
              "array([[0.15338635, 0.12742116, 0.95750969],\n",
              "       [0.36620692, 0.18246738, 0.15248931],\n",
              "       [0.22651305, 0.18201162, 0.39888777]])"
            ]
          },
          "metadata": {}
        }
      ],
      "execution_count": 14,
      "metadata": {
        "collapsed": false,
        "outputHidden": false,
        "inputHidden": false
      }
    },
    {
      "cell_type": "code",
      "source": [
        "# 创建一个3×3、由均值为0、方差为1的正态分布随机数组成的数组\n",
        "x = np.random.normal(0, 1, (3, 3))\n",
        "x"
      ],
      "outputs": [
        {
          "output_type": "execute_result",
          "execution_count": 15,
          "data": {
            "text/plain": [
              "array([[ 1.60544151,  1.53877914,  0.54658101],\n",
              "       [ 0.29518817, -1.31794875, -0.75930664],\n",
              "       [ 1.03449542, -0.53970085,  1.11143185]])"
            ]
          },
          "metadata": {}
        }
      ],
      "execution_count": 15,
      "metadata": {
        "collapsed": false,
        "outputHidden": false,
        "inputHidden": false
      }
    },
    {
      "cell_type": "code",
      "source": [
        "# 创建一个3×3、由[0,10)均匀分布随机整数组成的数值\n",
        "x = (np.random.randint(0, 10, (3, 3)))\n",
        "x"
      ],
      "outputs": [
        {
          "output_type": "execute_result",
          "execution_count": 16,
          "data": {
            "text/plain": [
              "array([[7, 4, 4],\n",
              "       [1, 9, 2],\n",
              "       [8, 0, 0]])"
            ]
          },
          "metadata": {}
        }
      ],
      "execution_count": 16,
      "metadata": {
        "collapsed": false,
        "outputHidden": false,
        "inputHidden": false
      }
    },
    {
      "cell_type": "markdown",
      "source": [
        "## 数组操作\n",
        "\n",
        "### 基本运算\n",
        "\n数组上的运算与 Python 类似，支持 Python 原生的算术运算符，标准的加、减、乘、除都可以使用。"
      ],
      "metadata": {}
    },
    {
      "cell_type": "code",
      "source": [
        "x = np.arange(4)\n",
        "print(\"x =\", x)\n",
        "print(\"x + 5 =\", x + 5)\n",
        "print(\"x * 2 =\", x * 2)\n",
        "print(\"x / 2 =\", x / 2)\n",
        "print(\"x // 2 =\", x // 2)\n",
        "print(\"-x = \", -x)\n",
        "print(\"x ** 2 = \", x ** 2)\n",
        "print(\"x % 2 = \", x % 2)"
      ],
      "outputs": [
        {
          "output_type": "stream",
          "name": "stdout",
          "text": [
            "x = [0 1 2 3]\n",
            "x + 5 = [5 6 7 8]\n",
            "x * 2 = [0 2 4 6]\n",
            "x / 2 = [0.  0.5 1.  1.5]\n",
            "x // 2 = [0 0 1 1]\n",
            "-x =  [ 0 -1 -2 -3]\n",
            "x ** 2 =  [0 1 4 9]\n",
            "x % 2 =  [0 1 0 1]\n"
          ]
        }
      ],
      "execution_count": 17,
      "metadata": {
        "collapsed": false,
        "outputHidden": false,
        "inputHidden": false
      }
    },
    {
      "cell_type": "markdown",
      "source": [
        "运算符与通用函数的对应关系如下表所示：\n",
        "\n",
        "| 运算符 | 对应的通用函数  |        描述        |\n",
        "| :----: | :-------------: | :----------------: |\n",
        "|   +    |     np.add      |      加法运算      |\n",
        "|   -    |   np.subtract   |      减法运算      |\n",
        "|   -    |   np.negative   |      负数运算      |\n",
        "|   *    |   np.multipy    |      乘法运算      |\n",
        "|   /    |    np.divide    |      除法运算      |\n",
        "|   //   | np.floor_divide |    取商除法运算    |\n",
        "|   **   |    np.power     |      指数运算      |\n",
        "|   &    |     np.mod      | 取模(余数)除法运算 |"
      ],
      "metadata": {}
    },
    {
      "cell_type": "markdown",
      "source": [
        "### 索引与切片\n",
        "\n",
        "- 索引：获取某个元素\n",
        "- 切片：获取某些元素"
      ],
      "metadata": {}
    },
    {
      "cell_type": "code",
      "source": [
        "# 创建一个3×3、由[0,10)均匀分布随机整数组成的数值\n",
        "x = (np.random.randint(0, 10, (3, 3)))\n",
        "x"
      ],
      "outputs": [
        {
          "output_type": "execute_result",
          "execution_count": 18,
          "data": {
            "text/plain": [
              "array([[6, 6, 1],\n",
              "       [4, 8, 7],\n",
              "       [2, 6, 5]])"
            ]
          },
          "metadata": {}
        }
      ],
      "execution_count": 18,
      "metadata": {
        "collapsed": false,
        "outputHidden": false,
        "inputHidden": false
      }
    },
    {
      "cell_type": "code",
      "source": [
        "# 索引\n",
        "x[1,1]"
      ],
      "outputs": [
        {
          "output_type": "execute_result",
          "execution_count": 19,
          "data": {
            "text/plain": [
              "8"
            ]
          },
          "metadata": {}
        }
      ],
      "execution_count": 19,
      "metadata": {
        "collapsed": false,
        "outputHidden": false,
        "inputHidden": false
      }
    },
    {
      "cell_type": "code",
      "source": [
        "# 切片\n",
        "x[1:,1:]"
      ],
      "outputs": [
        {
          "output_type": "execute_result",
          "execution_count": 20,
          "data": {
            "text/plain": [
              "array([[8, 7],\n",
              "       [6, 5]])"
            ]
          },
          "metadata": {}
        }
      ],
      "execution_count": 20,
      "metadata": {
        "collapsed": false,
        "outputHidden": false,
        "inputHidden": false
      }
    },
    {
      "cell_type": "markdown",
      "source": [
        "### 数组排序\n",
        "\n- np.sort(a,  axis=1)：`a`表示要排序的数值，`axis=0`表示按列排序(`axis=1`表示按行排序)"
      ],
      "metadata": {}
    },
    {
      "cell_type": "code",
      "source": [
        "# 创建一个4×6、由[0,10)均匀分布随机整数组成的数值\n",
        "x = (np.random.randint(0, 10, (4, 6)))\n",
        "x"
      ],
      "outputs": [
        {
          "output_type": "execute_result",
          "execution_count": 21,
          "data": {
            "text/plain": [
              "array([[7, 0, 1, 0, 9, 4],\n",
              "       [5, 2, 3, 1, 7, 2],\n",
              "       [1, 2, 7, 3, 5, 8],\n",
              "       [0, 8, 9, 0, 4, 8]])"
            ]
          },
          "metadata": {}
        }
      ],
      "execution_count": 21,
      "metadata": {
        "collapsed": false,
        "outputHidden": false,
        "inputHidden": false
      }
    },
    {
      "cell_type": "code",
      "source": [
        "# 按列排序\n",
        "np.sort(x, axis = 0)"
      ],
      "outputs": [
        {
          "output_type": "execute_result",
          "execution_count": 22,
          "data": {
            "text/plain": [
              "array([[0, 0, 1, 0, 4, 2],\n",
              "       [1, 2, 3, 0, 5, 4],\n",
              "       [5, 2, 7, 1, 7, 8],\n",
              "       [7, 8, 9, 3, 9, 8]])"
            ]
          },
          "metadata": {}
        }
      ],
      "execution_count": 22,
      "metadata": {
        "collapsed": false,
        "outputHidden": false,
        "inputHidden": false
      }
    },
    {
      "cell_type": "code",
      "source": [
        "# 按列排序\n",
        "np.sort(x, axis = 1)"
      ],
      "outputs": [
        {
          "output_type": "execute_result",
          "execution_count": 23,
          "data": {
            "text/plain": [
              "array([[0, 0, 1, 4, 7, 9],\n",
              "       [1, 2, 2, 3, 5, 7],\n",
              "       [1, 2, 3, 5, 7, 8],\n",
              "       [0, 0, 4, 8, 8, 9]])"
            ]
          },
          "metadata": {}
        }
      ],
      "execution_count": 23,
      "metadata": {
        "collapsed": false,
        "outputHidden": false,
        "inputHidden": false
      }
    },
    {
      "cell_type": "markdown",
      "source": [
        "### 数组变形\n",
        "\n- ```reshape()```方法"
      ],
      "metadata": {}
    },
    {
      "cell_type": "code",
      "source": [
        "# 创建一个3×3、由[0,10)均匀分布随机整数组成的数值\n",
        "x = (np.random.randint(0, 10, (3, 3)))\n",
        "x"
      ],
      "outputs": [
        {
          "output_type": "execute_result",
          "execution_count": 24,
          "data": {
            "text/plain": [
              "array([[0, 0, 9],\n",
              "       [6, 4, 5],\n",
              "       [5, 6, 1]])"
            ]
          },
          "metadata": {}
        }
      ],
      "execution_count": 24,
      "metadata": {
        "collapsed": false,
        "outputHidden": false,
        "inputHidden": false
      }
    },
    {
      "cell_type": "code",
      "source": [
        "print('通过变形获得的行向量:\\n', x.reshape((1, 9)))\n",
        "print('通过变形获得的列向量:\\n', x.reshape((9, 1)))"
      ],
      "outputs": [
        {
          "output_type": "stream",
          "name": "stdout",
          "text": [
            "通过变形获得的行向量:\n",
            " [[0 0 9 6 4 5 5 6 1]]\n",
            "通过变形获得的列向量:\n",
            " [[0]\n",
            " [0]\n",
            " [9]\n",
            " [6]\n",
            " [4]\n",
            " [5]\n",
            " [5]\n",
            " [6]\n",
            " [1]]\n"
          ]
        }
      ],
      "execution_count": 25,
      "metadata": {
        "collapsed": false,
        "outputHidden": false,
        "inputHidden": false
      }
    },
    {
      "cell_type": "markdown",
      "source": [
        "### 数组转置"
      ],
      "metadata": {}
    },
    {
      "cell_type": "code",
      "source": [
        "x = (np.random.randint(0, 10, (2, 3)))\n",
        "x"
      ],
      "outputs": [
        {
          "output_type": "execute_result",
          "execution_count": 26,
          "data": {
            "text/plain": [
              "array([[6, 5, 1],\n",
              "       [1, 2, 4]])"
            ]
          },
          "metadata": {}
        }
      ],
      "execution_count": 26,
      "metadata": {
        "collapsed": false,
        "outputHidden": false,
        "inputHidden": false
      }
    },
    {
      "cell_type": "code",
      "source": [
        "x.T"
      ],
      "outputs": [
        {
          "output_type": "execute_result",
          "execution_count": 27,
          "data": {
            "text/plain": [
              "array([[6, 1],\n",
              "       [5, 2],\n",
              "       [1, 4]])"
            ]
          },
          "metadata": {}
        }
      ],
      "execution_count": 27,
      "metadata": {
        "collapsed": false,
        "outputHidden": false,
        "inputHidden": false
      }
    },
    {
      "cell_type": "markdown",
      "source": [
        "### 拼接与拆分\n",
        "\n",
        "#### 拼接方法\n",
        "\n",
        "- ```np.concatenate((a1, a2, ...), axis=0)```：按垂直(水平`axis=1`)拼接数组元组`(a1, a2, ...)`或数值列表`[a1, a2, ...]`\n",
        "- ```np.vstack((a1, a2, ...))```：按垂直方向拼接数组元组`(a1, a2, ...)`或数值列表`[a1, a2, ...]`\n",
        "- ```np.hstack((a1, a2, ...))```：按水平方向拼接数组元组`(a1, a2, ...)`或数值列表`[a1, a2, ...]`"
      ],
      "metadata": {}
    },
    {
      "cell_type": "code",
      "source": [
        "x = np.array([[1,2,3,4],\n",
        "                  [1,2,3,4]])\n",
        "x"
      ],
      "outputs": [
        {
          "output_type": "execute_result",
          "execution_count": 28,
          "data": {
            "text/plain": [
              "array([[1, 2, 3, 4],\n",
              "       [1, 2, 3, 4]])"
            ]
          },
          "metadata": {}
        }
      ],
      "execution_count": 28,
      "metadata": {
        "collapsed": false,
        "outputHidden": false,
        "inputHidden": false
      }
    },
    {
      "cell_type": "code",
      "source": [
        "# 按垂直方向拼接数组x和x\n",
        "print('通过np.concatenate()方法拼接:\\n',np.concatenate((x,x)))\n",
        "print('通过np.vstack()方法拼接:\\n',np.vstack((x,x)))"
      ],
      "outputs": [
        {
          "output_type": "stream",
          "name": "stdout",
          "text": [
            "通过np.concatenate()方法拼接:\n",
            " [[1 2 3 4]\n",
            " [1 2 3 4]\n",
            " [1 2 3 4]\n",
            " [1 2 3 4]]\n",
            "通过np.vstack()方法拼接:\n",
            " [[1 2 3 4]\n",
            " [1 2 3 4]\n",
            " [1 2 3 4]\n",
            " [1 2 3 4]]\n"
          ]
        }
      ],
      "execution_count": 29,
      "metadata": {
        "collapsed": false,
        "outputHidden": false,
        "inputHidden": false
      }
    },
    {
      "cell_type": "code",
      "source": [
        "# 按水平方向拼接数值x和x\n",
        "print('通过np.concatenate()方法拼接:\\n',np.concatenate((x,x),axis=1))\n",
        "print('通过np.vstack()方法拼接:\\n',np.hstack((x,x)))"
      ],
      "outputs": [
        {
          "output_type": "stream",
          "name": "stdout",
          "text": [
            "通过np.concatenate()方法拼接:\n",
            " [[1 2 3 4 1 2 3 4]\n",
            " [1 2 3 4 1 2 3 4]]\n",
            "通过np.vstack()方法拼接:\n",
            " [[1 2 3 4 1 2 3 4]\n",
            " [1 2 3 4 1 2 3 4]]\n"
          ]
        }
      ],
      "execution_count": 30,
      "metadata": {
        "collapsed": false,
        "outputHidden": false,
        "inputHidden": false
      }
    },
    {
      "cell_type": "markdown",
      "source": [
        "#### 拆分方法\n",
        "\n",
        "- `np.split(ary, indices_or_sections, axis=0)`：`ary`为要拆分的数值，`indices_or_sections`为拆分节点序列，`axis=0`表示按竖直方向拆分(`axis=1`表示按竖直方向拆分)\n",
        "- `np.hsplit()`：按水平方向拆分\n",
        "- `np.vsplit()`：按竖直方向拆分"
      ],
      "metadata": {}
    },
    {
      "cell_type": "markdown",
      "source": [
        "一维数组："
      ],
      "metadata": {}
    },
    {
      "cell_type": "code",
      "source": [
        "x = np.arange(9)\n",
        "print(x)\n",
        "print(np.split(x,3))\n",
        "print(np.split(x,[2,5,7]))"
      ],
      "outputs": [
        {
          "output_type": "stream",
          "name": "stdout",
          "text": [
            "[0 1 2 3 4 5 6 7 8]\n",
            "[array([0, 1, 2]), array([3, 4, 5]), array([6, 7, 8])]\n",
            "[array([0, 1]), array([2, 3, 4]), array([5, 6]), array([7, 8])]\n"
          ]
        }
      ],
      "execution_count": 31,
      "metadata": {
        "collapsed": false,
        "outputHidden": false,
        "inputHidden": false
      }
    },
    {
      "cell_type": "markdown",
      "source": [
        "二维数组："
      ],
      "metadata": {}
    },
    {
      "cell_type": "code",
      "source": [
        "# 按竖直方向拆分\n",
        "y = (np.random.randint(0, 10, (3, 3)))\n",
        "print('通过np.split()方法拆分:\\n',np.split(y, 3))\n",
        "print('通过np.hsplit()方法拆分:\\n',np.vsplit(y, 3))"
      ],
      "outputs": [
        {
          "output_type": "stream",
          "name": "stdout",
          "text": [
            "通过np.split()方法拆分:\n",
            " [array([[8, 7, 4]]), array([[6, 7, 2]]), array([[9, 8, 0]])]\n",
            "通过np.hsplit()方法拆分:\n",
            " [array([[8, 7, 4]]), array([[6, 7, 2]]), array([[9, 8, 0]])]\n"
          ]
        }
      ],
      "execution_count": 32,
      "metadata": {
        "collapsed": false,
        "outputHidden": false,
        "inputHidden": false
      }
    },
    {
      "cell_type": "code",
      "source": [
        "# 按水平方向拆分\n",
        "print('通过np.split()方法拆分:\\n',np.split(y, 3, axis=1))\n",
        "print('通过np.hsplit()方法拆分:\\n',np.hsplit(y, 3))"
      ],
      "outputs": [
        {
          "output_type": "stream",
          "name": "stdout",
          "text": [
            "通过np.split()方法拆分:\n",
            " [array([[8],\n",
            "       [6],\n",
            "       [9]]), array([[7],\n",
            "       [7],\n",
            "       [8]]), array([[4],\n",
            "       [2],\n",
            "       [0]])]\n",
            "通过np.hsplit()方法拆分:\n",
            " [array([[8],\n",
            "       [6],\n",
            "       [9]]), array([[7],\n",
            "       [7],\n",
            "       [8]]), array([[4],\n",
            "       [2],\n",
            "       [0]])]\n"
          ]
        }
      ],
      "execution_count": 33,
      "metadata": {
        "collapsed": false,
        "outputHidden": false,
        "inputHidden": false
      }
    },
    {
      "cell_type": "markdown",
      "source": [
        "## 通用函数\n",
        "\nNumPy 提供熟悉的数学函数，例如`sin`，`cos`和`exp`等，在 NumPy 中，这些被称为“通用函数”（`ufunc`）。"
      ],
      "metadata": {}
    },
    {
      "cell_type": "code",
      "source": [
        "x = np.arange(3)\n",
        "x"
      ],
      "outputs": [
        {
          "output_type": "execute_result",
          "execution_count": 34,
          "data": {
            "text/plain": [
              "array([0, 1, 2])"
            ]
          },
          "metadata": {}
        }
      ],
      "execution_count": 34,
      "metadata": {
        "collapsed": false,
        "outputHidden": false,
        "inputHidden": false
      }
    },
    {
      "cell_type": "code",
      "source": [
        "np.exp(x)"
      ],
      "outputs": [
        {
          "output_type": "execute_result",
          "execution_count": 35,
          "data": {
            "text/plain": [
              "array([1.        , 2.71828183, 7.3890561 ])"
            ]
          },
          "metadata": {}
        }
      ],
      "execution_count": 35,
      "metadata": {
        "collapsed": false,
        "outputHidden": false,
        "inputHidden": false
      }
    },
    {
      "cell_type": "code",
      "source": [
        "np.sqrt(x)"
      ],
      "outputs": [
        {
          "output_type": "execute_result",
          "execution_count": 36,
          "data": {
            "text/plain": [
              "array([0.        , 1.        , 1.41421356])"
            ]
          },
          "metadata": {}
        }
      ],
      "execution_count": 36,
      "metadata": {
        "collapsed": false,
        "outputHidden": false,
        "inputHidden": false
      }
    },
    {
      "cell_type": "code",
      "source": [
        "np.add(x,x)"
      ],
      "outputs": [
        {
          "output_type": "execute_result",
          "execution_count": 37,
          "data": {
            "text/plain": [
              "array([0, 2, 4])"
            ]
          },
          "metadata": {}
        }
      ],
      "execution_count": 37,
      "metadata": {
        "collapsed": false,
        "outputHidden": false,
        "inputHidden": false
      }
    },
    {
      "cell_type": "markdown",
      "source": [
        "NumPy提供了大量的通用函数，具体情况可上官网查看，这里就不一一介绍了。"
      ],
      "metadata": {}
    },
    {
      "cell_type": "markdown",
      "source": [
        "## 广播\n",
        "\n广播是一种强有力的机制，通过它 NumPy 可以使不同大小的矩阵在一起进行数学计算。"
      ],
      "metadata": {}
    },
    {
      "cell_type": "code",
      "source": [
        "a = np.array([[ 0.0, 0.0, 0.0],\n",
        "               [10.0,10.0,10.0],\n",
        "               [20.0,20.0,20.0],\n",
        "               [30.0,30.0,30.0]])\n",
        "b = np.array([1.0,2.0,3.0])\n",
        "a + b"
      ],
      "outputs": [
        {
          "output_type": "execute_result",
          "execution_count": 38,
          "data": {
            "text/plain": [
              "array([[ 1.,  2.,  3.],\n",
              "       [11., 12., 13.],\n",
              "       [21., 22., 23.],\n",
              "       [31., 32., 33.]])"
            ]
          },
          "metadata": {}
        }
      ],
      "execution_count": 38,
      "metadata": {
        "collapsed": false,
        "outputHidden": false,
        "inputHidden": false
      }
    },
    {
      "cell_type": "markdown",
      "source": [
        "想深入了解广播，可以读一读[文档](http://docs.scipy.org/doc/numpy/user/basics.broadcasting.html)和这个[解释](http://scipy.github.io/old-wiki/pages/EricsBroadcastingDoc)。\n"
      ],
      "metadata": {}
    },
    {
      "cell_type": "markdown",
      "source": [
        "以上内容参考了 NumPy 官方教程和《Python科学计算手册》一书\n",
        "\n个人水平有限，文章中存在的任何问题请大家在评论中或私信我指正，我会认真修改或给出回馈。"
      ],
      "metadata": {}
    }
  ],
  "metadata": {
    "kernel_info": {
      "name": "python3"
    },
    "language_info": {
      "name": "python",
      "version": "3.6.5",
      "mimetype": "text/x-python",
      "codemirror_mode": {
        "name": "ipython",
        "version": 3
      },
      "pygments_lexer": "ipython3",
      "nbconvert_exporter": "python",
      "file_extension": ".py"
    },
    "kernelspec": {
      "name": "python3",
      "language": "python",
      "display_name": "Python 3"
    },
    "nteract": {
      "version": "0.12.3"
    }
  },
  "nbformat": 4,
  "nbformat_minor": 4
}