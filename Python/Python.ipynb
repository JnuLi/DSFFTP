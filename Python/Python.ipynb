{
  "cells": [
    {
      "cell_type": "markdown",
      "source": [
        "# Python"
      ],
      "metadata": {}
    },
    {
      "cell_type": "markdown",
      "source": [
        "Python语言是一种解释型、面向对象、动态数据类型的高级程序设计语言,如今已成为绝大部分数据分析师的首选数据分析语言。其设计的核心理念是代码的易读性，以及允许编程者通过若干行代码轻松表达想法创意。"
      ],
      "metadata": {}
    },
    {
      "cell_type": "markdown",
      "source": [
        "## 版本\n",
        "\n本教程所有代码采用 Python3.6 进行编写，可通过`!python --version`命令查看版本。"
      ],
      "metadata": {}
    },
    {
      "cell_type": "code",
      "source": [
        "!python --version"
      ],
      "outputs": [
        {
          "output_type": "stream",
          "name": "stderr",
          "text": [
            "Python 3.6.5 :: Anaconda, Inc.\n"
          ]
        }
      ],
      "execution_count": 1,
      "metadata": {
        "collapsed": false,
        "outputHidden": false,
        "inputHidden": false
      }
    },
    {
      "cell_type": "markdown",
      "source": [
        "## 语法\n",
        "\n",
        "### 缩进\n",
        "\n",
        "锁紧是表达代码间包含和层次关系的唯一手段，在 Python 中通过 4 个空格或 1 个 TAB 键来表示。\n",
        "\n",
        "### 注释\n",
        "注释是不被程序执行的辅助性说明信息。在 Python 中单注释分为单行和多行，单行注释以`#`开头，其后内容为注释；多行注释以`'''`开头和结尾，中间内容为注释。\n"
      ],
      "metadata": {}
    },
    {
      "cell_type": "code",
      "source": [
        "# 这是一个单行注释\n",
        "\n",
        "'''\n",
        "这是一个多行注释\n",
        "这是一个多行注释\n",
        "'''\n",
        "\nprint('注释')"
      ],
      "outputs": [
        {
          "output_type": "stream",
          "name": "stdout",
          "text": [
            "注释\n"
          ]
        }
      ],
      "execution_count": 2,
      "metadata": {}
    },
    {
      "cell_type": "markdown",
      "source": [
        "### 变量\n",
        "\n",
        "变量是用来保存和表示数据的占位符号。在 Python 中通过等号`=`用向变量赋值或修改值。\n",
        "变量名是大小写字母、数字、下划线`_`和汉字等字符的组合，对大小写敏感，首字母不能是数字，也不能与保留字相同。"
      ],
      "metadata": {}
    },
    {
      "cell_type": "code",
      "source": [
        "# 向变量x赋值为1\n",
        "x = 1\n",
        "print('x =',x)\n",
        "\n",
        "# 修改变量x的赋值为2\n",
        "x = 2\n",
        "print('x =',x)"
      ],
      "outputs": [
        {
          "output_type": "stream",
          "name": "stdout",
          "text": [
            "x = 1\n",
            "x = 2\n"
          ]
        }
      ],
      "execution_count": 3,
      "metadata": {
        "collapsed": false,
        "outputHidden": false,
        "inputHidden": false
      }
    },
    {
      "cell_type": "markdown",
      "source": [
        "### 保留字\n",
        "\n",
        "保留字是被编程语言内部定义并保留使用的标识符。在 Python 中有 33 个保留字，保留字是编程语言的基本单词，对大小写敏感。\n",
        "\n",
        "|||||||\n",
        "|:-:|:-:|:-:|:-:|:-:|:-:|\n",
        "|and|  as  | assert | break | class | continue |\n",
        "| def  | elif | else | except | finally | for |\n",
        "| from | if | import |in|is|lambda|\n",
        "| not | or | pass |raise|return|try|\n",
        "| while | with | yield |del|global|nonlocal|\n",
        "| True | False | None ||||"
      ],
      "metadata": {}
    },
    {
      "cell_type": "markdown",
      "source": [
        "## 操作符\n",
        "\n",
        "操作符是完成运算的一种符号体系\n",
        "\n",
        "### 运算操作符\n",
        "\n",
        "|操作符|描述|\n",
        "|:-:|:-|\n",
        "|x + y|加法运算|\n",
        "|x - y|减法运算|\n",
        "|x * y|乘法运算|\n",
        "|x / y|除法运算|\n",
        "|x // y|整除运算|\n",
        "|x % y|取模(余数)运算\n",
        "| - y|负数运算|\n",
        "|x ** y|幂运算，y 为小数时为开方运算|\n",
        "\n",
        "### 赋值操作符\n",
        "\n",
        "|操作符|描述|\n",
        "|:-:|:-|\n",
        "|x += y|即 x = x + y|\n",
        "|x -= y|即 x = x - y|\n",
        "|x *= y|即 x = x * y|\n",
        "|x /= y|即 x = x / y|\n",
        "|x //= y|即 x = x // y|\n",
        "|x %= y|即 x = x % y|\n",
        "|x **= y|即 x = x ** y|\n",
        "\n",
        "### 比较运算符\n",
        "\n",
        "比较运算结果为 True 或 False。\n",
        "\n",
        "|操作符|描述|\n",
        "|:-:|:-|\n",
        "|==|等于|\n",
        "|！=|不等于|\n",
        "|<>|不等于，与 ！= 类似|\n",
        "|>|大与|\n",
        "|<|小于|\n",
        "|>+|大于等于|\n",
        "|<=|小于等于|\n",
        "\n",
        "### 位运算符\n",
        "\n",
        "按位运算符是把数字看作二进制来进行计算的。\n",
        "\n",
        "|操作符|描述|\n",
        "|:-:|:-|\n",
        "|&|按位与|\n",
        "|&#124;|按位或|\n",
        "|^|按位异或|\n",
        "|~|按位取反|\n",
        "|<<|左移动|\n",
        "|>>|右移动|\n",
        "\n",
        "### 逻辑运算符\n",
        "\n",
        "|运算符|描述|\n",
        "|:-:|:-|\n",
        "|and|布尔\"与\"|\n",
        "|or|布尔\"或\"|\n",
        "|not|布尔\"非\"|\n",
        "\n",
        "### 成员运算符\n",
        "\n",
        "|运算符|描述|\n",
        "|:-:|:-|\n",
        "|in|变量在指定序列中找到值返回 True，否则返回 False|\n",
        "|not in|变量在指定的序列中没有找到值返回 True，否则返回 False|\n",
        "\n",
        "### 身份运算符\n",
        "\n",
        "身份运算符用于比较两个对象的存储单元。\n",
        "\n",
        "|运算符|描述|\n",
        "|:-:|:-|\n",
        "|is|判断两个标识符是不是引用自一个对象|\n",
        "|is not|判断两个标识符是不是引用自不同对象|"
      ],
      "metadata": {}
    },
    {
      "cell_type": "markdown",
      "source": [
        "## 数据类型\n",
        "\n",
        "数据类型是供计算机程序理解的数据形式，在 Python 中数据类型被分为基本数据类型和复合数据类型。\n",
        "\n",
        "- 基本数据类型：也称为数值，包括整数、浮点数、复数、布尔数值和空值。\n",
        "- 复合数据类型：也称为序列，包括字符串、列表、元组、字典和集合。"
      ],
      "metadata": {}
    },
    {
      "cell_type": "markdown",
      "source": [
        "### 基本数据类型\n",
        "\n",
        "#### 整数\n",
        "\n",
        "Python 中的整数与数学中整数的概念一致，可正可负，没有取值范围限制，在 Python 中有 4 种表达形式。\n",
        "\n",
        "|表达形式|格式|\n",
        "|:-:|:-|\n",
        "|十进制|-100,0,100|\n",
        "|二进制|以0b或0B开头：0b01,-0B01|\n",
        "|八进制|以0o或0O开头：0o17,-0O17|\n",
        "|十六进制|以0x或0X开头：0x0f, -0X0f|\n",
        "\n整数虽然有 4 种表达形式，但输出格式都是十进制。"
      ],
      "metadata": {}
    },
    {
      "cell_type": "code",
      "source": [
        "print(\"二进制数 0b01 的输出格式是：\",0b01)\n",
        "print(\"八进制数 0o17 的输出格式是：\",0o17)\n",
        "print(\"十六进制数 0x0f 的输出格式是：\",0x0f)"
      ],
      "outputs": [
        {
          "output_type": "stream",
          "name": "stdout",
          "text": [
            "二进制数 0b01 的输出格式是： 1\n",
            "八进制数 0o17 的输出格式是： 15\n",
            "十六进制数 0x0f 的输出格式是： 15\n"
          ]
        }
      ],
      "execution_count": 4,
      "metadata": {
        "collapsed": false,
        "outputHidden": false,
        "inputHidden": false
      }
    },
    {
      "cell_type": "markdown",
      "source": [
        "#### 浮点数\n",
        "\n",
        "Python 中的浮点数与数学中实数的概念一致，指带有小数点及小数的数字。浮点数取值范围和小数精度都存在限制，但常规计算可忽略。取值范围数量级约$-10^{308}$至$10^{308}$，精度数量级$10^{16}$。\n",
        "\n",
        "在 Python 中浮点数有两种表达形式：一种用小数点+数字形式表示；一种用科学计数法表示，使用字母e或E作为幂的符号，以10为基数，$<a>e<b>$表示$a*10^b$\n"
      ],
      "metadata": {}
    },
    {
      "cell_type": "code",
      "source": [
        "print('浮点数 110e-3 值为：',110e-3)\n",
        "print('浮点数 5.2E2 值为：',5.2E2)"
      ],
      "outputs": [
        {
          "output_type": "stream",
          "name": "stdout",
          "text": [
            "浮点数 110e-3 值为： 0.11\n",
            "浮点数 5.2E2 值为： 520.0\n"
          ]
        }
      ],
      "execution_count": 5,
      "metadata": {}
    },
    {
      "cell_type": "markdown",
      "source": [
        "在 Python 中浮点数间运算存在不确定尾数，但这并不是 Bug ，由于计算机有二进制表示小数，只能无限接近小数值，但不会完全相同。"
      ],
      "metadata": {}
    },
    {
      "cell_type": "code",
      "source": [
        "0.1 + 0.2"
      ],
      "outputs": [
        {
          "output_type": "execute_result",
          "execution_count": 6,
          "data": {
            "text/plain": [
              "0.30000000000000004"
            ]
          },
          "metadata": {}
        }
      ],
      "execution_count": 6,
      "metadata": {
        "collapsed": false,
        "outputHidden": false,
        "inputHidden": false
      }
    },
    {
      "cell_type": "markdown",
      "source": [
        "方法：\n",
        "\n- `round(x, b)`：对 x 四舍五入，d 是小数截取位数。"
      ],
      "metadata": {}
    },
    {
      "cell_type": "code",
      "source": [
        "round(0.1 + 0.2, 1)"
      ],
      "outputs": [
        {
          "output_type": "execute_result",
          "execution_count": 7,
          "data": {
            "text/plain": [
              "0.3"
            ]
          },
          "metadata": {}
        }
      ],
      "execution_count": 7,
      "metadata": {}
    },
    {
      "cell_type": "markdown",
      "source": [
        "#### 复数\n",
        "\nPython 中的复数与数学中复数的概念一致，记 a+b*j 为复数，其中 a 是实部，b 是虚部。"
      ],
      "metadata": {}
    },
    {
      "cell_type": "code",
      "source": [
        "x = 1 + 2j\n",
        "print('复数 1 + 2j 的实部是：', x.real)\n",
        "print('复数 1 + 2j 的虚部是：', x.imag)"
      ],
      "outputs": [
        {
          "output_type": "stream",
          "name": "stdout",
          "text": [
            "复数 1 + 2j 的实部是： 1.0\n",
            "复数 1 + 2j 的虚部是： 2.0\n"
          ]
        }
      ],
      "execution_count": 8,
      "metadata": {}
    },
    {
      "cell_type": "markdown",
      "source": [
        "#### 布尔数值\n",
        "\nPython 中的布尔数值与数学中布尔代数的概念一致，分为 True 和 False。利用布尔数值可进行逻辑运算。"
      ],
      "metadata": {}
    },
    {
      "cell_type": "code",
      "source": [
        "x = True\n",
        "y = False\n",
        "\n",
        "# 与运算\n",
        "print('x and y =',x and y)\n",
        "print('x&y = ',x&y)\n",
        "\n",
        "# 或运算\n",
        "print('x or y =',x or y)\n",
        "print('x|y = ',x|y)\n",
        "\n",
        "# 异或运算\n",
        "print('x ^ y =',x ^ y)\n",
        "\n",
        "# 非运算\n",
        "print('not x =',not x)"
      ],
      "outputs": [
        {
          "output_type": "stream",
          "name": "stdout",
          "text": [
            "x and y = False\n",
            "x&y =  False\n",
            "x or y = True\n",
            "x|y =  True\n",
            "x ^ y = True\n",
            "not x = False\n"
          ]
        }
      ],
      "execution_count": 9,
      "metadata": {}
    },
    {
      "cell_type": "markdown",
      "source": [
        "#### 空值\n",
        "\n空值是 Python 中一种特殊的数据类型，用 None 表示。None 表示一个空对象，不能理解为 0。"
      ],
      "metadata": {}
    },
    {
      "cell_type": "code",
      "source": [
        "x = None\n",
        "x == 0"
      ],
      "outputs": [
        {
          "output_type": "execute_result",
          "execution_count": 10,
          "data": {
            "text/plain": [
              "False"
            ]
          },
          "metadata": {}
        }
      ],
      "execution_count": 10,
      "metadata": {
        "collapsed": false,
        "outputHidden": false,
        "inputHidden": false
      }
    },
    {
      "cell_type": "markdown",
      "source": [
        "### 序列"
      ],
      "metadata": {}
    },
    {
      "cell_type": "markdown",
      "source": [
        "#### 字符串\n",
        "\n字符串是由 0 个或多个字符组成的有序字符序列，由一对单引号`''`或一对双引号`\"\"`表示。"
      ],
      "metadata": {}
    },
    {
      "cell_type": "markdown",
      "source": [
        "## 循环语句"
      ],
      "metadata": {}
    },
    {
      "cell_type": "code",
      "source": [
        "print('我是一个字符串')\n",
        "print(\"我是另一个字符串\")"
      ],
      "outputs": [
        {
          "output_type": "stream",
          "name": "stdout",
          "text": [
            "我是一个字符串\n",
            "我是另一个字符串\n"
          ]
        }
      ],
      "execution_count": 11,
      "metadata": {}
    },
    {
      "cell_type": "markdown",
      "source": [
        "## 参考资料\n",
        "\n",
        "[北京理工大学：Python语言程序设计](https://www.icourse163.org/course/BIT-268001?tid=1003243006)\n",
        "\n[菜鸟教程：Python3教程](http://www.runoob.com/python3/python3-tutorial.html)"
      ],
      "metadata": {}
    }
  ],
  "metadata": {
    "kernelspec": {
      "name": "python3",
      "language": "python",
      "display_name": "Python 3"
    },
    "language_info": {
      "name": "python",
      "version": "3.6.5",
      "mimetype": "text/x-python",
      "codemirror_mode": {
        "name": "ipython",
        "version": 3
      },
      "pygments_lexer": "ipython3",
      "nbconvert_exporter": "python",
      "file_extension": ".py"
    },
    "kernel_info": {
      "name": "python3"
    },
    "nteract": {
      "version": "0.12.3"
    }
  },
  "nbformat": 4,
  "nbformat_minor": 2
}