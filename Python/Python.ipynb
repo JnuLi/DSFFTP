{
  "cells": [
    {
      "cell_type": "markdown",
      "source": [
        "# Python"
      ],
      "metadata": {}
    },
    {
      "cell_type": "markdown",
      "source": [
        "Python语言是一种解释型、面向对象、动态数据类型的高级程序设计语言,如今已成为绝大部分数据分析师的首选数据分析语言。其设计的核心理念是代码的易读性，以及允许编程者通过若干行代码轻松表达想法创意。"
      ],
      "metadata": {}
    },
    {
      "cell_type": "markdown",
      "source": [
        "## 版本\n",
        "\n本教程所有代码采用 Python3.6 进行编写，可通过`!python --version`命令查看版本。"
      ],
      "metadata": {}
    },
    {
      "cell_type": "code",
      "source": [
        "!python --version"
      ],
      "outputs": [
        {
          "output_type": "stream",
          "name": "stderr",
          "text": [
            "Python 3.6.5 :: Anaconda, Inc.\n"
          ]
        }
      ],
      "execution_count": 1,
      "metadata": {
        "collapsed": false,
        "outputHidden": false,
        "inputHidden": false
      }
    },
    {
      "cell_type": "markdown",
      "source": [
        "## 语法\n",
        "\n",
        "### 缩进\n",
        "\n",
        "锁紧是表达代码间包含和层次关系的唯一手段，在 Python 中通过 4 个空格或 1 个 TAB 键来表示。\n",
        "\n",
        "### 注释\n",
        "注释是不被程序执行的辅助性说明信息。在 Python 中单注释分为单行和多行，单行注释以`#`开头，其后内容为注释；多行注释以`'''`开头和结尾，中间内容为注释。\n"
      ],
      "metadata": {}
    },
    {
      "cell_type": "code",
      "source": [
        "# 这是一个单行注释\n",
        "\n",
        "'''\n",
        "这是一个多行注释\n",
        "这是一个多行注释\n",
        "'''\n",
        "\nprint('注释')"
      ],
      "outputs": [
        {
          "output_type": "stream",
          "name": "stdout",
          "text": [
            "注释\n"
          ]
        }
      ],
      "execution_count": 2,
      "metadata": {}
    },
    {
      "cell_type": "markdown",
      "source": [
        "### 变量\n",
        "\n",
        "变量是用来保存和表示数据的占位符号。在 Python 中通过等号`=`用向变量赋值或修改值。\n",
        "变量名是大小写字母、数字、下划线`_`和汉字等字符的组合，对大小写敏感，首字母不能是数字，也不能与保留字相同。"
      ],
      "metadata": {}
    },
    {
      "cell_type": "code",
      "source": [
        "# 向变量x赋值为1\n",
        "x = 1\n",
        "print('x =',x)\n",
        "\n",
        "# 修改变量x的赋值为2\n",
        "x = 2\n",
        "print('x =',x)"
      ],
      "outputs": [
        {
          "output_type": "stream",
          "name": "stdout",
          "text": [
            "x = 1\n",
            "x = 2\n"
          ]
        }
      ],
      "execution_count": 3,
      "metadata": {
        "collapsed": false,
        "outputHidden": false,
        "inputHidden": false
      }
    },
    {
      "cell_type": "markdown",
      "source": [
        "### 保留字\n",
        "\n",
        "保留字是被编程语言内部定义并保留使用的标识符。在 Python 中有 33 个保留字，保留字是编程语言的基本单词，对大小写敏感。\n",
        "\n",
        "|||||||\n",
        "|:-:|:-:|:-:|:-:|:-:|:-:|\n",
        "|and|  as  | assert | break | class | continue |\n",
        "| def  | elif | else | except | finally | for |\n",
        "| from | if | import |in|is|lambda|\n",
        "| not | or | pass |raise|return|try|\n",
        "| while | with | yield |del|global|nonlocal|\n",
        "| True | False | None ||||"
      ],
      "metadata": {}
    },
    {
      "cell_type": "markdown",
      "source": [
        "## 数据类型\n",
        "\n",
        "数据类型是供计算机程序理解的数据形式，在 Python 中数据类型被分为基本数据类型和复合数据类型。\n",
        "\n",
        "- 基本数据类型：也称为数字，包括整型数字、浮点型数字和布尔数字。\n",
        "- 复合数据类型：也称为序列，包括字符串、列表、元组、字典和集合。"
      ],
      "metadata": {}
    },
    {
      "cell_type": "markdown",
      "source": [
        "### 数字"
      ],
      "metadata": {}
    },
    {
      "cell_type": "markdown",
      "source": [
        "### 序列"
      ],
      "metadata": {}
    },
    {
      "cell_type": "markdown",
      "source": [
        "#### 字符串\n",
        "\n字符串是由 0 个或多个字符组成的有序字符序列，由一对单引号`''`或一对双引号`\"\"`表示。"
      ],
      "metadata": {}
    },
    {
      "cell_type": "code",
      "source": [
        "print('这是一个字符串')\n",
        "print(\"这是另一个字符串\")"
      ],
      "outputs": [
        {
          "output_type": "stream",
          "name": "stdout",
          "text": [
            "这是一个字符串\n",
            "这是另一个字符串\n"
          ]
        }
      ],
      "execution_count": 4,
      "metadata": {}
    },
    {
      "cell_type": "markdown",
      "source": [
        "## 参考资料\n",
        "\n[北京理工大学：Python语言程序设计](https://www.icourse163.org/course/BIT-268001?tid=1003243006)"
      ],
      "metadata": {}
    }
  ],
  "metadata": {
    "kernelspec": {
      "name": "python3",
      "language": "python",
      "display_name": "Python 3"
    },
    "language_info": {
      "name": "python",
      "version": "3.6.5",
      "mimetype": "text/x-python",
      "codemirror_mode": {
        "name": "ipython",
        "version": 3
      },
      "pygments_lexer": "ipython3",
      "nbconvert_exporter": "python",
      "file_extension": ".py"
    },
    "kernel_info": {
      "name": "python3"
    },
    "nteract": {
      "version": "0.12.3"
    }
  },
  "nbformat": 4,
  "nbformat_minor": 2
}